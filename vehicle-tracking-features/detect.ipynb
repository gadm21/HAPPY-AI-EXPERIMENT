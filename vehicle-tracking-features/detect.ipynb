{
 "cells": [
  {
   "cell_type": "code",
   "execution_count": 11,
   "metadata": {},
   "outputs": [],
   "source": [
    "import os\n",
    "import cv2\n",
    "import argparse\n",
    "import sys\n",
    "from PIL import Image\n",
    "\n",
    "from util import getRectangle,validBoundingBox\n",
    "from track.tracker import Tracker\n",
    "from vehicle import Vehicle\n",
    "from option import Option\n",
    "from detector import Detector\n",
    "from model import Model\n",
    "from label import Label"
   ]
  },
  {
   "cell_type": "code",
   "execution_count": 12,
   "metadata": {},
   "outputs": [],
   "source": [
    "def parse_arguments(argv):\n",
    "    parser = argparse.ArgumentParser()\n",
    "    parser.add_argument(\"--video\", type=str, help=\"video path/ip address\")\n",
    "    parser.add_argument(\n",
    "        \"--width\", default=0, type=int, help=\"the width of video output\"\n",
    "    )\n",
    "    parser.add_argument(\n",
    "        \"--height\", default=0, type=int, help=\"the height of video output\"\n",
    "    )\n",
    "    parser.add_argument(\n",
    "        \"--output\", default=\"output/output.mov\", type=str, help=\"output video path\"\n",
    "    )\n",
    "    parser.add_argument(\n",
    "        \"--model\",\n",
    "        default=\"ssd_mobilenet_v1_coco_2018_01_28\",\n",
    "        type=str,\n",
    "        help=\"model name folder in model\",\n",
    "    )\n",
    "    return parser.parse_args(argv)"
   ]
  },
  {
   "cell_type": "markdown",
   "metadata": {},
   "source": [
    "# Draw Tracked Object\n",
    "It basically just draw out the bounding box and other details on the image."
   ]
  },
  {
   "cell_type": "code",
   "execution_count": 13,
   "metadata": {},
   "outputs": [],
   "source": [
    "def drawTrackedObject(imgDisplay):\n",
    "    for oid in tracker.objectTrackers.keys():\n",
    "        tracked_position = tracker.objectTrackers[oid].get_position()\n",
    "        t_x = int(tracked_position.left())\n",
    "        t_y = int(tracked_position.top())\n",
    "        t_w = int(tracked_position.width())\n",
    "        t_h = int(tracked_position.height())\n",
    "\n",
    "        rectColor = (255, 0, 0)\n",
    "\n",
    "        vehicle = tracker.vehicleList[oid]\n",
    "\n",
    "        class_name = vehicle.vehicleType\n",
    "        color = vehicle.color\n",
    "        speed = vehicle.speed\n",
    "        stay = vehicle.stay\n",
    "\n",
    "        textType = \"Type: \" + class_name\n",
    "        textColor = \"Color: \" + str(color)\n",
    "        if speed is None:\n",
    "            textSpeed = \"Speed: None\"\n",
    "        else:\n",
    "            textSpeed = \"Speed: \" + \"{0:.2f}\".format(speed)\n",
    "        textStay = \"Stay: \" + str(stay)\n",
    "\n",
    "        if opt.stay and stay >= 30:\n",
    "            rectColor = (0, 0, 255)  # alert\n",
    "\n",
    "        textTuple = (textType,textColor,textSpeed,textStay)\n",
    "        optTuple = opt.getOptionTuple()\n",
    "        titleHeight = optTuple.count(True)*10\n",
    "\n",
    "        # draw object bounding box\n",
    "        cv2.rectangle(\n",
    "            imgDisplay,\n",
    "            (t_x, t_y),\n",
    "            (t_x + t_w, t_y + t_h),\n",
    "            rectColor,\n",
    "            2\n",
    "        )\n",
    "\n",
    "        # fill object title background\n",
    "        cv2.rectangle(\n",
    "            imgDisplay,\n",
    "            (t_x, t_y - titleHeight),\n",
    "            (t_x + 80, t_y),\n",
    "            rectColor,\n",
    "            -1\n",
    "        )\n",
    "\n",
    "        # write text on object title part\n",
    "        counter = 0\n",
    "        for i in range(0,len(textTuple)):\n",
    "            if optTuple[i]:\n",
    "                cv2.putText(\n",
    "                    imgDisplay,\n",
    "                    textTuple[i],\n",
    "                    (t_x, t_y - counter),\n",
    "                    cv2.FONT_HERSHEY_SIMPLEX,\n",
    "                    0.4,\n",
    "                    (255, 255, 255),\n",
    "                    1,\n",
    "                )                \n",
    "                counter += 10"
   ]
  },
  {
   "cell_type": "markdown",
   "metadata": {},
   "source": [
    "# Main Method\n"
   ]
  },
  {
   "cell_type": "code",
   "execution_count": 14,
   "metadata": {
    "scrolled": false
   },
   "outputs": [
    {
     "name": "stdout",
     "output_type": "stream",
     "text": [
      "Namespace(height=0, model='ssd_mobilenet_v1_coco_2018_01_28', output='output/output.mov', video='video/A0026.mpg', width=0)\n"
     ]
    }
   ],
   "source": [
    "args = parse_arguments(['--video', 'video/A0026.mpg'])\n",
    "print(args)"
   ]
  },
  {
   "cell_type": "code",
   "execution_count": 15,
   "metadata": {},
   "outputs": [],
   "source": [
    "CWD_PATH = os.getcwd()"
   ]
  },
  {
   "cell_type": "markdown",
   "metadata": {},
   "source": [
    "## Setup Model"
   ]
  },
  {
   "cell_type": "code",
   "execution_count": 16,
   "metadata": {},
   "outputs": [],
   "source": [
    "MODEL_NAME = args.model\n",
    "\n",
    "PATH_TO_CKPT = os.path.join(\n",
    "    CWD_PATH, \"model\", MODEL_NAME, \"frozen_inference_graph.pb\"\n",
    ")\n",
    "\n",
    "model = Model(PATH_TO_CKPT)\n",
    "model.setup()"
   ]
  },
  {
   "cell_type": "markdown",
   "metadata": {},
   "source": [
    "## Setup Label"
   ]
  },
  {
   "cell_type": "code",
   "execution_count": 17,
   "metadata": {},
   "outputs": [],
   "source": [
    "# List of the strings that is used to add correct label for each box.\n",
    "PATH_TO_LABELS = os.path.join(CWD_PATH, \"label\", \"mscoco_label_map.pbtxt\")\n",
    "\n",
    "label = Label(PATH_TO_LABELS)\n",
    "label.setup()"
   ]
  },
  {
   "cell_type": "code",
   "execution_count": 18,
   "metadata": {},
   "outputs": [],
   "source": [
    "detector = Detector()\n",
    "detector.setModel(model)\n",
    "\n",
    "opt = Option()\n",
    "tracker = Tracker()\n",
    "\n",
    "vehicleClass = [\"bicycle\", \"car\", \"motorcycle\", \"bus\", \"truck\"]"
   ]
  },
  {
   "cell_type": "code",
   "execution_count": 19,
   "metadata": {},
   "outputs": [],
   "source": [
    "    if args.video is None:\n",
    "        video_src = 0\n",
    "    else:\n",
    "        video_src = args.video\n",
    "\n",
    "    cap = cv2.VideoCapture(video_src)\n",
    "\n",
    "    resize = False\n",
    "\n",
    "    if args.width > 0:\n",
    "        width = args.width\n",
    "        resize = True\n",
    "    else:    \n",
    "        width = int(cap.get(cv2.CAP_PROP_FRAME_WIDTH))\n",
    "\n",
    "    if args.height > 0:\n",
    "        height = args.height\n",
    "        resize = True\n",
    "    else:\n",
    "        height = int(cap.get(cv2.CAP_PROP_FRAME_HEIGHT))\n",
    "\n",
    "    tracker.videoFrameSize = (width, height)            \n",
    "\n",
    "    output = args.output\n",
    "\n",
    "    frame_count = 0\n",
    "    frame_interval = 10\n",
    "\n",
    "    currentTrackID = 0\n",
    "\n",
    "    fourcc = cv2.VideoWriter_fourcc(*'XVID')\n",
    "    fps = cap.get(cv2.CAP_PROP_FPS)\n",
    "    tracker.fps = fps\n",
    "\n",
    "    out = cv2.VideoWriter(\n",
    "        output, fourcc, fps, (width, height)\n",
    "    )"
   ]
  },
  {
   "cell_type": "markdown",
   "metadata": {},
   "source": [
    "# Main section\n",
    "Tracker - update every frame, and delete if some object out of screen etc.  \n",
    "Detection - run every N frame (depend on the frame_interval variable)  \n",
    "During detection, if the object already have tracker previously, it does not need create new tracker.  \n",
    "Only the new object will create new tracker.  "
   ]
  },
  {
   "cell_type": "code",
   "execution_count": 20,
   "metadata": {},
   "outputs": [],
   "source": [
    "while True:\n",
    "    flags, frame = cap.read()\n",
    "\n",
    "    if flags == False:\n",
    "        break\n",
    "\n",
    "    if resize:\n",
    "        frame = cv2.resize(frame, (width, height))\n",
    "    imgDisplay = frame.copy()\n",
    "\n",
    "    tracker.deleteTrack(frame.copy())\n",
    "\n",
    "    if (frame_count % frame_interval) == 0:\n",
    "\n",
    "        output_rgb = cv2.cvtColor(imgDisplay, cv2.COLOR_BGR2RGB)\n",
    "        (boxes, scores, classes) = detector.detectObject(output_rgb)\n",
    "\n",
    "        for i in range(boxes.shape[0]):\n",
    "            # filter out the object that cannot fulfill all requirement\n",
    "            # (low confidence score,object is not vehicle type, etc.)\n",
    "            rect = getRectangle(boxes[i],width,height)\n",
    "            result = label.getLabel(classes[i])\n",
    "            check = validBoundingBox(rect,scores[i],result,vehicleClass)\n",
    "\n",
    "            if check is False:\n",
    "                continue\n",
    "\n",
    "            matchedID = tracker.getMatchId(frame,rect)\n",
    "            # if current detected object already have tracker, do nothing\n",
    "            if matchedID is not None:\n",
    "                continue\n",
    "\n",
    "            # else create new tracker for the object\n",
    "            (xmin,ymin,xmax,ymax) = rect\n",
    "\n",
    "            vehicle = Vehicle()\n",
    "            currentTrackID += 1\n",
    "\n",
    "            # rgb image for color detector\n",
    "            img = output_rgb[ymin:ymax, xmin:xmax]\n",
    "\n",
    "            img = Image.fromarray(img)\n",
    "\n",
    "            vehicle.color = detector.detectColor(img)\n",
    "            vehicle.vehicleType = result\n",
    "            vehicle.centerX = (xmin + xmax) / 2.0\n",
    "            vehicle.centerY = (ymin + ymax) / 2.0\n",
    "\n",
    "            tracker.createTrack(\n",
    "                frame, rect, currentTrackID\n",
    "            )\n",
    "\n",
    "            tracker.vehicleList[currentTrackID] = vehicle\n",
    "\n",
    "    drawTrackedObject(imgDisplay)\n",
    "\n",
    "    out.write(imgDisplay)\n",
    "    cv2.imshow(\"Video\", imgDisplay)\n",
    "\n",
    "    frame_count += 1\n",
    "\n",
    "    if cv2.waitKey(1) & 0xFF == ord(\"q\"):\n",
    "        break\n",
    "\n",
    "cap.release()\n",
    "out.release()\n",
    "cv2.destroyAllWindows()"
   ]
  }
 ],
 "metadata": {
  "kernelspec": {
   "display_name": "Python 3",
   "language": "python",
   "name": "python3"
  },
  "language_info": {
   "codemirror_mode": {
    "name": "ipython",
    "version": 3
   },
   "file_extension": ".py",
   "mimetype": "text/x-python",
   "name": "python",
   "nbconvert_exporter": "python",
   "pygments_lexer": "ipython3",
   "version": "3.6.6"
  }
 },
 "nbformat": 4,
 "nbformat_minor": 2
}
