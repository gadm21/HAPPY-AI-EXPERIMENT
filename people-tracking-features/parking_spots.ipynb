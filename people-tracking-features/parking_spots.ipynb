{
 "cells": [
  {
   "cell_type": "markdown",
   "metadata": {},
   "source": [
    "Code adapted from Tensorflow Object Detection Framework\n",
    "https://github.com/tensorflow/models/blob/master/research/object_detection/object_detection_tutorial.ipynb\n",
    "Tensorflow Object Detection Detector"
   ]
  },
  {
   "cell_type": "code",
   "execution_count": 1,
   "metadata": {},
   "outputs": [],
   "source": [
    "import argparse\n",
    "import sys\n",
    "import time\n",
    "\n",
    "import cv2\n",
    "import numpy as np\n",
    "import tensorflow as tf\n",
    "\n",
    "import track.cartracker as cartrack\n",
    "import track.tracker as track\n",
    "import scripts.detector as od"
   ]
  },
  {
   "cell_type": "markdown",
   "metadata": {},
   "source": [
    "# Function to draw out tracked vehicle"
   ]
  },
  {
   "cell_type": "code",
   "execution_count": 3,
   "metadata": {},
   "outputs": [],
   "source": [
    "def drawTrackedVehicle(imgDisplay):\n",
    "    for fid in cartracker.faceTrackers.keys():\n",
    "        tracked_position = cartracker.faceTrackers[fid].get_position()\n",
    "        t_x = int(tracked_position.left())\n",
    "        t_y = int(tracked_position.top())\n",
    "        t_w = int(tracked_position.width())\n",
    "        t_h = int(tracked_position.height())\n",
    "\n",
    "        StoppedTime = cartracker.getStoppedTime(fid)\n",
    "        direction = cartracker.direction[fid]\n",
    "        if StoppedTime > 5:\n",
    "            rectColor = (0, 0, 255)\n",
    "            for i in range(len(parking_spots)):\n",
    "                parking = parking_spots[i]\n",
    "                t_x_bar = t_x + 0.5 * t_w\n",
    "                t_y_bar = t_y + 0.5 * t_h\n",
    "                if abs(t_x_bar - parking[0]) < 20 and abs(t_y_bar - parking[1] < 50) and t_y_bar < parking[1]:\n",
    "                    text = 'V{} '.format(fid) + str(int(StoppedTime)) + 's'\n",
    "                    break\n",
    "                else:\n",
    "                    text = 'V{} Illegal Park '.format(fid) + str(int(StoppedTime)) + 's'\n",
    "\n",
    "        else:\n",
    "            text = 'V{} '.format(fid) + str(direction)\n",
    "            rectColor = (255, 0, 0)\n",
    "        textSize = cv2.getTextSize(text, cv2.FONT_HERSHEY_SIMPLEX, 0.5, 2)[0]\n",
    "        textX = int(t_x + t_w / 2 - (textSize[0]) / 2)\n",
    "        textY = int(t_y)\n",
    "        textLoc = (textX, textY)\n",
    "\n",
    "        cv2.rectangle(imgDisplay, (t_x, t_y),\n",
    "                      (t_x + t_w, t_y + t_h),\n",
    "                      rectColor, 1)\n",
    "\n",
    "        cv2.putText(imgDisplay, text, textLoc,\n",
    "                    cv2.FONT_HERSHEY_SIMPLEX,\n",
    "                    0.5, (255, 255, 255), 1)\n"
   ]
  },
  {
   "cell_type": "markdown",
   "metadata": {},
   "source": [
    "# Function to draw out parking spots"
   ]
  },
  {
   "cell_type": "code",
   "execution_count": 5,
   "metadata": {},
   "outputs": [],
   "source": [
    "def drawParkingSpots(imgDisplay):\n",
    "    parked = 0\n",
    "    unparked = 0\n",
    "    for parking in parking_spots:\n",
    "        bool = True\n",
    "        for fid in cartracker.faceTrackers.keys():\n",
    "            tracked_position = cartracker.faceTrackers[fid].get_position()\n",
    "            t_x = int(tracked_position.left())\n",
    "            t_y = int(tracked_position.top())\n",
    "            t_w = int(tracked_position.width())\n",
    "            t_h = int(tracked_position.height())\n",
    "            t_x_bar = t_x + 0.5 * t_w\n",
    "            t_y_bar = t_y + 0.5 * t_h\n",
    "            # checking with each vehicle whether it is parked at the spot\n",
    "            if abs(t_x_bar - parking[0]) < 15 and abs(t_y_bar - parking[1] < 30) and t_y_bar < parking[1]:\n",
    "                parked += 1\n",
    "                cv2.circle(imgDisplay, (parking[0], parking[1]), 4, (0, 0, 255), -1, )\n",
    "                bool = False\n",
    "                break\n",
    "        if bool:\n",
    "            unparked += 1\n",
    "            cv2.circle(imgDisplay, (parking[0], parking[1]), 4, (0, 255, 0), -1, )\n",
    "\n",
    "    return parked, unparked\n"
   ]
  },
  {
   "cell_type": "markdown",
   "metadata": {},
   "source": [
    "# Function to parse arguments"
   ]
  },
  {
   "cell_type": "code",
   "execution_count": 6,
   "metadata": {},
   "outputs": [],
   "source": [
    "def check_arg(args=None):\n",
    "    parser = argparse.ArgumentParser(description='Script for detecting occupied and free parking spots')\n",
    "    parser.add_argument('-m', '--model',\n",
    "                        help='Tensorflow object detection model path',\n",
    "                        required=True,\n",
    "                        default='model/faster_rcnn_inception_v2_coco_2018_01_28/frozen_inference_graph.pb')\n",
    "    parser.add_argument('-i', '--input',\n",
    "                        help='Input video filename',\n",
    "                        required=True)\n",
    "    parser.add_argument('-o', '--output',\n",
    "                        help='Filename for output video',\n",
    "                        default='output.avi')\n",
    "    parser.add_argument('-f', '--frame_interval',\n",
    "                        help='Amount of frame interval between frame processing',\n",
    "                        default=5)\n",
    "    parser.add_argument('-p', '--parking_spot_points',\n",
    "                        help='Points of all parking spots in the format of [(x1,y1),(x2,y2),...]',\n",
    "                        required=True,\n",
    "                        default='[(100,200),(600,200)]')\n",
    "    parser.add_argument('-vt', '--vehicle_threshold',\n",
    "                        help='Threshold value for vehicle detection',\n",
    "                        default=0.5)\n",
    "    results = parser.parse_args(args)\n",
    "    return (results.model,\n",
    "            results.input,\n",
    "            results.output,\n",
    "            results.frame_interval,\n",
    "            results.parking_spot_points,\n",
    "            results.vehicle_threshold)\n",
    "\n"
   ]
  },
  {
   "cell_type": "code",
   "execution_count": 7,
   "metadata": {},
   "outputs": [],
   "source": [
    "# Main function to process video"
   ]
  },
  {
   "cell_type": "code",
   "execution_count": null,
   "metadata": {},
   "outputs": [],
   "source": [
    "# getting variables from sys argument\n",
    "model_path, input, output, frame_interval, points, vehiclethres = check_arg(sys.argv[1:])\n",
    "frame_interval = int(frame_interval)\n",
    "vehiclethres = float(vehiclethres)\n",
    "parking_spots = eval(points)"
   ]
  },
  {
   "cell_type": "code",
   "execution_count": null,
   "metadata": {},
   "outputs": [],
   "source": [
    "# manually setting each variables\n",
    "model_path = 'model/ssd_inception_v2_coco_2018_01_28/frozen_inference_graph.pb'\n",
    "input = 'videos/A0051.mov'\n",
    "output = 'output/sample_output.avi'\n",
    "frame_interval = 5\n",
    "vehiclethres = 0.6\n",
    "parking_spots = [(100,200),(600,200)]"
   ]
  },
  {
   "cell_type": "code",
   "execution_count": null,
   "metadata": {},
   "outputs": [],
   "source": [
    "# initializing tracker and object detector and cv2 video capture\n",
    "cartracker = cartrack.Tracker()\n",
    "carid = 0\n",
    "frame_count = 0\n",
    "odapi = od.DetectorAPI(path_to_ckpt=model_path)\n",
    "cap = cv2.VideoCapture(input)\n",
    "flag, frame = cap.read()\n",
    "assert flag == True\n",
    "# getting video information\n",
    "height, width, _ = frame.shape\n",
    "tracker.videoFrameSize = frame.shape\n",
    "cartracker.videoFrameSize = frame.shape\n",
    "fps = cap.get(cv2.CAP_PROP_FPS)\n",
    "tracker.fps = fps\n",
    "cartracker.fps = fps\n",
    "\n",
    "fourcc = cv2.VideoWriter_fourcc(*'XVID')\n",
    "# Define VideoWrite object\n",
    "# cv2.VideoWrite('arg1',arg2,arg3,(width,heigh))\n",
    "# arg1:output file name\n",
    "# arg2:Specify Fourcc code\n",
    "# arg3: frames per seconds\n",
    "# FourCC is a 4-byte code used to specify video codec\n",
    "out = cv2.VideoWriter(output, fourcc, fps, (width, height))\n",
    "\n",
    "while True:\n",
    "\n",
    "    r, img = cap.read()\n",
    "    # if there are still frames to process\n",
    "    if r:\n",
    "        if frame_count % (frame_interval * 3) == 0:\n",
    "            # delete all duplicate tracker that overlaps each other\n",
    "            cartracker.removeDuplicate()\n",
    "        # update and/or delete tracker\n",
    "        cartracker.deleteTrack(img)\n",
    "        if frame_count % frame_interval == 0:\n",
    "            boxes, scores, classes, num = odapi.processFrame(img)\n",
    "            # Visualization of the results of a detection.\n",
    "            for i in range(len(boxes)):\n",
    "                # Class 3, 6, 7 and 8 are all vehicles type\n",
    "                if (classes[i] == 3 or classes[i] == 6 or classes[i] == 7 or classes[i] == 8) and scores[\n",
    "                    i] > vehiclethres:\n",
    "                    box = boxes[i]\n",
    "                    matchedID = cartracker.getMatchId(img, (box[1], box[0], box[3], box[2]))\n",
    "                    if matchedID is None:\n",
    "                        carid += 1\n",
    "                        cartracker.createTrack(img, (box[1], box[0], box[3], box[2]), str(carid), scores[i])\n",
    "        # draw tracked vehicle and parking spots and get parked/unparked spot count\n",
    "        drawTrackedVehicle(img)\n",
    "        parked, unparked = drawParkingSpots(img)\n",
    "\n",
    "        number = int(len(cartracker.faceTrackers))\n",
    "        cv2.putText(img, 'Cars: ' + str(number), (0, 25),\n",
    "                    cv2.FONT_HERSHEY_SIMPLEX,\n",
    "                    1, (255, 255, 0), 2)\n",
    "        cv2.putText(img, 'Parked Spot: ' + str(parked), (0, 50),\n",
    "                    cv2.FONT_HERSHEY_SIMPLEX,\n",
    "                    1, (0, 0, 255), 2)\n",
    "        cv2.putText(img, 'Free Spot: ' + str(unparked), (0, 75),\n",
    "                    cv2.FONT_HERSHEY_SIMPLEX,\n",
    "                    1, (0, 255, 0), 2)\n",
    "\n",
    "        out.write(img)\n",
    "        frame_count += 1\n",
    "        # display frame in cv2\n",
    "        # cv2.imshow(\"preview\", img)\n",
    "        key = cv2.waitKey(1)\n",
    "        if key & 0xFF == ord('q'):\n",
    "            break\n",
    "    else:\n",
    "        raise RuntimeError('No more frame')"
   ]
  }
 ],
 "metadata": {
  "kernelspec": {
   "display_name": "Python 3",
   "language": "python",
   "name": "python3"
  },
  "language_info": {
   "codemirror_mode": {
    "name": "ipython",
    "version": 3
   },
   "file_extension": ".py",
   "mimetype": "text/x-python",
   "name": "python",
   "nbconvert_exporter": "python",
   "pygments_lexer": "ipython3",
   "version": "3.6.2"
  }
 },
 "nbformat": 4,
 "nbformat_minor": 2
}
