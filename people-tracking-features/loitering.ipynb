{
 "cells": [
  {
   "cell_type": "markdown",
   "metadata": {},
   "source": [
    "Code adapted from Tensorflow Object Detection Framework\n",
    "https://github.com/tensorflow/models/blob/master/research/object_detection/object_detection_tutorial.ipynb\n",
    "Tensorflow Object Detection Detector"
   ]
  },
  {
   "cell_type": "code",
   "execution_count": 1,
   "metadata": {},
   "outputs": [],
   "source": [
    "import argparse\n",
    "import sys\n",
    "import time\n",
    "\n",
    "import cv2\n",
    "import numpy as np\n",
    "import tensorflow as tf\n",
    "\n",
    "import track.tracker as track\n",
    "import scripts.detector as od"
   ]
  },
  {
   "cell_type": "markdown",
   "metadata": {},
   "source": [
    "# Function to draw out each tracked person with loitering time"
   ]
  },
  {
   "cell_type": "code",
   "execution_count": null,
   "metadata": {},
   "outputs": [],
   "source": [
    "def drawTrackedFace(imgDisplay):\n",
    "    for fid in tracker.faceTrackers.keys():\n",
    "        tracked_position = tracker.faceTrackers[fid].get_position()\n",
    "        t_x = int(tracked_position.left())\n",
    "        t_y = int(tracked_position.top())\n",
    "        t_w = int(tracked_position.width())\n",
    "        t_h = int(tracked_position.height())\n",
    "        loiteringTime = tracker.getLoiteringTime(fid)\n",
    "        text = 'P{}'.format(fid)\n",
    "        rectColor = (0, 255, 0)\n",
    "        if loiteringTime > 5:\n",
    "            text = 'P{} Loitering Time: {}s'.format(fid, int(loiteringTime))\n",
    "            rectColor = (0, 0, 255)\n",
    "\n",
    "        textSize = cv2.getTextSize(text, cv2.FONT_HERSHEY_SIMPLEX, 0.5, 2)[0]\n",
    "        textX = int(t_x + t_w / 2 - (textSize[0]) / 2)\n",
    "        textY = int(t_y)\n",
    "        textLoc = (textX, textY)\n",
    "\n",
    "        cv2.rectangle(imgDisplay, (t_x, t_y),\n",
    "                      (t_x + t_w, t_y + t_h),\n",
    "                      rectColor, 1)\n",
    "\n",
    "        cv2.putText(imgDisplay, text, textLoc,\n",
    "                    cv2.FONT_HERSHEY_SIMPLEX,\n",
    "                    0.5, (255, 255, 255), 1)"
   ]
  },
  {
   "cell_type": "markdown",
   "metadata": {},
   "source": [
    "# Function to parse arguments"
   ]
  },
  {
   "cell_type": "code",
   "execution_count": 2,
   "metadata": {},
   "outputs": [],
   "source": [
    "def check_arg(args=None):\n",
    "    parser = argparse.ArgumentParser(description='Script for detecting people loitering')\n",
    "    parser.add_argument('-m', '--model',\n",
    "                        help='Tensorflow object detection model path',\n",
    "                        required=True,\n",
    "                        default='model/faster_rcnn_inception_v2_coco_2018_01_28/frozen_inference_graph.pb')\n",
    "    parser.add_argument('-i', '--input',\n",
    "                        help='Input video filename',\n",
    "                        required=True)\n",
    "    parser.add_argument('-o', '--output',\n",
    "                        help='Filename for output video',\n",
    "                        default='output.avi')\n",
    "    parser.add_argument('-f', '--frame_interval',\n",
    "                        help='Amount of frame interval between frame processing',\n",
    "                        default=5)\n",
    "    parser.add_argument('-pt', '--people_threshold',\n",
    "                        help='Threshold value for people detection',\n",
    "                        default=0.8)\n",
    "    results = parser.parse_args(args)\n",
    "    return (results.model,\n",
    "            results.input,\n",
    "            results.output,\n",
    "            results.frame_interval,\n",
    "            results.people_threshold)"
   ]
  },
  {
   "cell_type": "markdown",
   "metadata": {},
   "source": [
    "# Main function to process video"
   ]
  },
  {
   "cell_type": "code",
   "execution_count": null,
   "metadata": {},
   "outputs": [],
   "source": [
    "# getting variables from sys argument\n",
    "model_path, input, output, frame_interval, threshold = check_arg(sys.argv[1:])\n",
    "frame_interval = int(frame_interval)\n",
    "threshold = float(threshold)"
   ]
  },
  {
   "cell_type": "code",
   "execution_count": null,
   "metadata": {},
   "outputs": [],
   "source": [
    "# manually setting each variables\n",
    "model_path = 'model/ssd_inception_v2_coco_2018_01_28/frozen_inference_graph.pb'\n",
    "input = 'videos/A0051.mov'\n",
    "output = 'output/sample_output.avi'\n",
    "frame_interval = 5\n",
    "threshold = 0.8"
   ]
  },
  {
   "cell_type": "code",
   "execution_count": null,
   "metadata": {},
   "outputs": [],
   "source": [
    "# initiazling tracker and object detector and cv2 video capture\n",
    "id = 0\n",
    "frame_count = 0\n",
    "tracker = track.Tracker()\n",
    "odapi = od.DetectorAPI(path_to_ckpt=model_path)\n",
    "cap = cv2.VideoCapture(input)\n",
    "flag, frame = cap.read()\n",
    "assert flag == True\n",
    "# getting video information\n",
    "tracker.videoFrameSize = frame.shape\n",
    "fps = cap.get(cv2.CAP_PROP_FPS)\n",
    "tracker.fps = fps\n",
    "\n",
    "fourcc = cv2.VideoWriter_fourcc(*'XVID')\n",
    "# Define VideoWrite object\n",
    "# cv2.VideoWrite('arg1',arg2,arg3,(width,heigh))\n",
    "# arg1:output file name\n",
    "# arg2:Specify Fourcc code\n",
    "# arg3: frames per seconds\n",
    "# FourCC is a 4-byte code used to specify video codec\n",
    "height, width, _ = frame.shape\n",
    "out = cv2.VideoWriter(output, fourcc, fps, (width, height))\n",
    "\n",
    "while True:\n",
    "    r, img = cap.read()\n",
    "    # if there are still frames to process\n",
    "    if r:\n",
    "        if frame_count % (frame_interval * 5) == 0:\n",
    "            # remove all duplicate trackers that overlaps each other\n",
    "            tracker.removeDuplicate()\n",
    "        # update and/or delete trackers\n",
    "        tracker.deleteTrack(img)\n",
    "\n",
    "        if frame_count % frame_interval == 0:\n",
    "            boxes, scores, classes, num = odapi.processFrame(img)\n",
    "            # Visualization of the results of a detection.\n",
    "            for i in range(len(boxes)):\n",
    "                # Class 1 represents human\n",
    "                if classes[i] == 1 and scores[i] >= threshold:\n",
    "                    box = boxes[i]\n",
    "                    matchedID = tracker.getMatchId(img, (box[1], box[0], box[3], box[2]))\n",
    "                    if matchedID is None:\n",
    "                        id += 1\n",
    "                        tracker.createTrack(img, (box[1], box[0], box[3], box[2]), str(id), scores[i])\n",
    "                    # cv2.rectangle(img,(box[1],box[0]),(box[3],box[2]),(255,0,0),2)\n",
    "\n",
    "        drawTrackedFace(img)\n",
    "        out.write(img)\n",
    "        frame_count += 1\n",
    "        # showing frames in cv2\n",
    "        # cv2.imshow(\"preview\", img)\n",
    "        key = cv2.waitKey(1)\n",
    "        if key & 0xFF == ord('q'):\n",
    "            break\n",
    "    else:\n",
    "        raise RuntimeError('No more frame')"
   ]
  }
 ],
 "metadata": {
  "kernelspec": {
   "display_name": "Python 3",
   "language": "python",
   "name": "python3"
  },
  "language_info": {
   "codemirror_mode": {
    "name": "ipython",
    "version": 3
   },
   "file_extension": ".py",
   "mimetype": "text/x-python",
   "name": "python",
   "nbconvert_exporter": "python",
   "pygments_lexer": "ipython3",
   "version": "3.6.2"
  }
 },
 "nbformat": 4,
 "nbformat_minor": 2
}
