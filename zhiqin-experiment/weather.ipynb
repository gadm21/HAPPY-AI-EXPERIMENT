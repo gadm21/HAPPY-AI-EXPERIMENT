{
 "cells": [
  {
   "cell_type": "code",
   "execution_count": null,
   "metadata": {},
   "outputs": [],
   "source": []
  },
  {
   "cell_type": "code",
   "execution_count": 1,
   "metadata": {},
   "outputs": [],
   "source": [
    "import argparse\n",
    "import sys\n",
    "\n",
    "import cv2\n",
    "import numpy as np\n",
    "from skimage import measure"
   ]
  },
  {
   "cell_type": "markdown",
   "metadata": {},
   "source": [
    "# Function to detect bright spots (which increase when raining)"
   ]
  },
  {
   "cell_type": "code",
   "execution_count": 3,
   "metadata": {},
   "outputs": [],
   "source": [
    "def detect_bright_spot(image):\n",
    "    gray = cv2.cvtColor(image, cv2.COLOR_BGR2GRAY)\n",
    "    blurred = cv2.GaussianBlur(gray, (11, 11), 0)\n",
    "    thresh = cv2.threshold(blurred, 200, 255, cv2.THRESH_BINARY)[1]\n",
    "    # cv2.imshow('mask',thresh)\n",
    "    thresh = cv2.erode(thresh, None, iterations=2)\n",
    "    thresh = cv2.dilate(thresh, None, iterations=3)\n",
    "    # cv2.imshow('rain',thresh)\n",
    "    labels = measure.label(thresh, neighbors=8, background=0)\n",
    "    mask = np.zeros(thresh.shape, dtype=\"uint8\")\n",
    "    total = 0\n",
    "    # loop over the unique components\n",
    "    for label in np.unique(labels):\n",
    "        # if this is the background label, ignore it\n",
    "        if label == 0:\n",
    "            continue\n",
    "\n",
    "        # otherwise, construct the label mask and count the\n",
    "        # number of pixels\n",
    "        labelMask = np.zeros(thresh.shape, dtype=\"uint8\")\n",
    "        labelMask[labels == label] = 255\n",
    "        numPixels = cv2.countNonZero(labelMask)\n",
    "\n",
    "        # if the number of pixels in the component is sufficiently\n",
    "        # large, then add it to our mask of \"large blobs\"\n",
    "        if numPixels > 1200:\n",
    "            total += numPixels\n",
    "            mask = cv2.add(mask, labelMask)\n",
    "    # cv2.imshow('measured',mask)\n",
    "\n",
    "    return total"
   ]
  },
  {
   "cell_type": "markdown",
   "metadata": {},
   "source": [
    "# Function to parse arguments"
   ]
  },
  {
   "cell_type": "code",
   "execution_count": 5,
   "metadata": {},
   "outputs": [],
   "source": [
    "def check_arg(args=None):\n",
    "    parser = argparse.ArgumentParser(description='Script for detecting raining condition')\n",
    "    parser.add_argument('-i', '--input',\n",
    "                        help='Input video filename',\n",
    "                        required=True)\n",
    "    parser.add_argument('-o', '--output',\n",
    "                        help='Filename for output video',\n",
    "                        default='output.avi')\n",
    "    parser.add_argument('-rt', '--rain_threshold',\n",
    "                        help='Intensity threshold value to be considered raining',\n",
    "                        default=20000)\n",
    "\n",
    "    results = parser.parse_args(args)\n",
    "    return (results.input,\n",
    "            results.output,\n",
    "            results.rain_threshold)\n"
   ]
  },
  {
   "cell_type": "markdown",
   "metadata": {},
   "source": [
    "# Main function to process video"
   ]
  },
  {
   "cell_type": "code",
   "execution_count": null,
   "metadata": {},
   "outputs": [],
   "source": []
  },
  {
   "cell_type": "code",
   "execution_count": null,
   "metadata": {},
   "outputs": [],
   "source": [
    "# getting variables from sys argument\n",
    "input, output, rainthres = check_arg(sys.argv[1:])\n",
    "rainthres = int(rainthres)"
   ]
  },
  {
   "cell_type": "code",
   "execution_count": null,
   "metadata": {},
   "outputs": [],
   "source": [
    "# setting variabes manually\n",
    "input = 'videos/A0051.mov'\n",
    "output = 'output/sample_output.avi'\n",
    "rainthres = 20000"
   ]
  },
  {
   "cell_type": "code",
   "execution_count": 8,
   "metadata": {},
   "outputs": [
    {
     "name": "stderr",
     "output_type": "stream",
     "text": [
      "usage: ipykernel_launcher.py [-h] -i INPUT [-o OUTPUT] [-rt RAIN_THRESHOLD]\n",
      "ipykernel_launcher.py: error: the following arguments are required: -i/--input\n"
     ]
    },
    {
     "ename": "SystemExit",
     "evalue": "2",
     "output_type": "error",
     "traceback": [
      "An exception has occurred, use %tb to see the full traceback.\n",
      "\u001b[1;31mSystemExit\u001b[0m\u001b[1;31m:\u001b[0m 2\n"
     ]
    },
    {
     "name": "stderr",
     "output_type": "stream",
     "text": [
      "c:\\users\\zhiqi\\appdata\\local\\programs\\python\\python36\\lib\\site-packages\\IPython\\core\\interactiveshell.py:2969: UserWarning: To exit: use 'exit', 'quit', or Ctrl-D.\n",
      "  warn(\"To exit: use 'exit', 'quit', or Ctrl-D.\", stacklevel=1)\n"
     ]
    }
   ],
   "source": [
    "# initiazling cv2 video capture and other variable\n",
    "cap = cv2.VideoCapture(input)\n",
    "frame_count = 0\n",
    "total = 0\n",
    "per = 1000\n",
    "flag, frame = cap.read()\n",
    "assert flag == True\n",
    "height, width, _ = frame.shape\n",
    "fps = cap.get(cv2.CAP_PROP_FPS)\n",
    "\n",
    "fourcc = cv2.VideoWriter_fourcc(*'XVID')\n",
    "# Define VideoWrite object\n",
    "# cv2.VideoWrite('arg1',arg2,arg3,(width,heigh))\n",
    "# arg1:output file name\n",
    "# arg2:Specify Fourcc code\n",
    "# arg3: frames per seconds\n",
    "# FourCC is a 4-byte code used to specify video codec\n",
    "out = cv2.VideoWriter(output, fourcc, fps, (width, height))\n",
    "# cap.set(cv2.CAP_PROP_POS_FRAMES, 9000)\n",
    "\n",
    "while True:\n",
    "\n",
    "    r, img = cap.read()\n",
    "    # if there are still frames to process\n",
    "    if r:\n",
    "        # detect total bright spot area\n",
    "        total = detect_bright_spot(img)\n",
    "        # convert to grayscale and get average intensity variance as indicator for foggyness\n",
    "        gray = cv2.cvtColor(img, cv2.COLOR_BGR2GRAY)\n",
    "        intensity_variance_per_row = np.var(gray, axis=0)\n",
    "        avg_variance = np.average(intensity_variance_per_row, axis=0)\n",
    "        # display information for raining\n",
    "        if total > rainthres:\n",
    "            text = 'Raining'\n",
    "            color = (0, 0, 255)\n",
    "        else:\n",
    "            text = 'Not Raining'\n",
    "            color = (255, 255, 255)\n",
    "\n",
    "        cv2.putText(img, str(total), (0, 25),\n",
    "                    cv2.FONT_HERSHEY_SIMPLEX,\n",
    "                    1, (255, 255, 255), 2)\n",
    "        cv2.putText(img, str(text), (0, 50),\n",
    "                    cv2.FONT_HERSHEY_SIMPLEX,\n",
    "                    1, color, 2)\n",
    "        # display information for foggy\n",
    "        if avg_variance < 3900:\n",
    "            text = 'Foggy'\n",
    "            color = (0, 0, 255)\n",
    "        else:\n",
    "            text = 'Not Foggy'\n",
    "            color = (255, 255, 255)\n",
    "        cv2.putText(img, str(int(avg_variance)), (0, 75),\n",
    "                    cv2.FONT_HERSHEY_SIMPLEX,\n",
    "                    1, (255, 255, 255), 2)\n",
    "        cv2.putText(img, str(text), (0, 100),\n",
    "                    cv2.FONT_HERSHEY_SIMPLEX,\n",
    "                    1, color, 2)\n",
    "\n",
    "        out.write(img)\n",
    "        frame_count += 1\n",
    "        # show frame in cv2\n",
    "        # cv2.imshow(\"preview\", img)\n",
    "        key = cv2.waitKey(1)\n",
    "        if key & 0xFF == ord('q'):\n",
    "            break\n",
    "    else:\n",
    "        raise RuntimeError('No more frame')"
   ]
  },
  {
   "cell_type": "code",
   "execution_count": null,
   "metadata": {},
   "outputs": [],
   "source": []
  }
 ],
 "metadata": {
  "kernelspec": {
   "display_name": "Python 3",
   "language": "python",
   "name": "python3"
  },
  "language_info": {
   "codemirror_mode": {
    "name": "ipython",
    "version": 3
   },
   "file_extension": ".py",
   "mimetype": "text/x-python",
   "name": "python",
   "nbconvert_exporter": "python",
   "pygments_lexer": "ipython3",
   "version": "3.6.2"
  }
 },
 "nbformat": 4,
 "nbformat_minor": 2
}
