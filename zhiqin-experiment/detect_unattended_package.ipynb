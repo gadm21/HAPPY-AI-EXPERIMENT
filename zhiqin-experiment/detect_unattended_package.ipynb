{
 "cells": [
  {
   "cell_type": "markdown",
   "metadata": {},
   "source": [
    "Code adapted from Tensorflow Object Detection Framework\n",
    "https://github.com/tensorflow/models/blob/master/research/object_detection/object_detection_tutorial.ipynb\n",
    "Tensorflow Object Detection Detector"
   ]
  },
  {
   "cell_type": "code",
   "execution_count": null,
   "metadata": {},
   "outputs": [],
   "source": [
    "import argparse\n",
    "import sys\n",
    "import time\n",
    "\n",
    "import cv2\n",
    "import numpy as np\n",
    "import tensorflow as tf\n",
    "import track.bagtracker as bagtrack\n",
    "import track.tracker as track\n",
    "import scripts.detector as od"
   ]
  },
  {
   "cell_type": "markdown",
   "metadata": {},
   "source": [
    "# Functions to draw tracked bags and people on screen."
   ]
  },
  {
   "cell_type": "code",
   "execution_count": null,
   "metadata": {},
   "outputs": [],
   "source": [
    "def drawTrackedBag(imgDisplay):\n",
    "    for fid in bagtracker.faceTrackers.keys():\n",
    "        tracked_position = bagtracker.faceTrackers[fid].get_position()\n",
    "        t_x = int(tracked_position.left())\n",
    "        t_y = int(tracked_position.top())\n",
    "        t_w = int(tracked_position.width())\n",
    "        t_h = int(tracked_position.height())\n",
    "\n",
    "        owner = bagtracker.owner[fid]\n",
    "        abandoned = bagtracker.abandoned[fid]\n",
    "        if owner is not None:\n",
    "            owner = 'Owner: P' + str(owner)\n",
    "        else:\n",
    "            owner = 'No Owner'\n",
    "        if abandoned:\n",
    "            rectColor = (0, 0, 255)\n",
    "            owner = owner + '(Abandoned)'\n",
    "            print('detected abandoned package {} owner: {}'.format(fid, bagtracker.owner[fid]))\n",
    "        else:\n",
    "            rectColor = (255, 0, 0)\n",
    "\n",
    "        text = '{}'.format(owner)\n",
    "\n",
    "        textSize = cv2.getTextSize(text, cv2.FONT_HERSHEY_SIMPLEX, 0.5, 2)[0]\n",
    "        textX = int(t_x + t_w / 2 - (textSize[0]) / 2)\n",
    "        textY = int(t_y)\n",
    "        textLoc = (textX, textY)\n",
    "\n",
    "        cv2.rectangle(imgDisplay, (t_x, t_y),\n",
    "                      (t_x + t_w, t_y + t_h),\n",
    "                      rectColor, 1)\n",
    "\n",
    "        cv2.putText(imgDisplay, text, textLoc,\n",
    "                    cv2.FONT_HERSHEY_SIMPLEX,\n",
    "                    0.5, (255, 255, 255), 2)\n",
    "\n",
    "\n",
    "def drawTrackedFace(imgDisplay):\n",
    "    for fid in tracker.faceTrackers.keys():\n",
    "        tracked_position = tracker.faceTrackers[fid].get_position()\n",
    "        t_x = int(tracked_position.left())\n",
    "        t_y = int(tracked_position.top())\n",
    "        t_w = int(tracked_position.width())\n",
    "        t_h = int(tracked_position.height())\n",
    "\n",
    "        text = 'P{}'.format(fid)\n",
    "        rectColor = (0, 255, 0)\n",
    "\n",
    "        textSize = cv2.getTextSize(text, cv2.FONT_HERSHEY_SIMPLEX, 0.5, 2)[0]\n",
    "        textX = int(t_x + t_w / 2 - (textSize[0]) / 2)\n",
    "        textY = int(t_y)\n",
    "        textLoc = (textX, textY)\n",
    "\n",
    "        cv2.rectangle(imgDisplay, (t_x, t_y),\n",
    "                      (t_x + t_w, t_y + t_h),\n",
    "                      rectColor, 1)\n",
    "\n",
    "        cv2.putText(imgDisplay, text, textLoc,\n",
    "                    cv2.FONT_HERSHEY_SIMPLEX,\n",
    "                    0.5, (255, 255, 255), 2)\n",
    "\n"
   ]
  },
  {
   "cell_type": "markdown",
   "metadata": {},
   "source": [
    "# Argument parsing function"
   ]
  },
  {
   "cell_type": "code",
   "execution_count": null,
   "metadata": {},
   "outputs": [],
   "source": [
    "def check_arg(args=None):\n",
    "    parser = argparse.ArgumentParser(description='Script for unattended package detection')\n",
    "    parser.add_argument('-m', '--model',\n",
    "                        help='Tensorflow object detection model path',\n",
    "                        required=True,\n",
    "                        default='model/faster_rcnn_inception_v2_coco_2018_01_28/frozen_inference_graph.pb')\n",
    "    parser.add_argument('-i', '--input',\n",
    "                        help='Input video filename',\n",
    "                        required=True)\n",
    "    parser.add_argument('-o', '--output',\n",
    "                        help='Filename for output video',\n",
    "                        default='output.avi')\n",
    "    parser.add_argument('-f', '--frame_interval',\n",
    "                        help='Amount of frame interval between frame processing',\n",
    "                        default=5)\n",
    "    parser.add_argument('-bt', '--bag_threshold',\n",
    "                        help='Threshold value for bag detection',\n",
    "                        default=0.5)\n",
    "    parser.add_argument('-pt', '--person_threshold',\n",
    "                        help='Threshold value for person detection',\n",
    "                        default=0.5)\n",
    "\n",
    "    results = parser.parse_args(args)\n",
    "    return (results.model,\n",
    "            results.input,\n",
    "            results.output,\n",
    "            results.frame_interval,\n",
    "            results.bag_threshold,\n",
    "            results.person_threshold)\n"
   ]
  },
  {
   "cell_type": "code",
   "execution_count": null,
   "metadata": {},
   "outputs": [],
   "source": []
  },
  {
   "cell_type": "code",
   "execution_count": null,
   "metadata": {},
   "outputs": [],
   "source": []
  },
  {
   "cell_type": "markdown",
   "metadata": {},
   "source": [
    "# Main function for video processing"
   ]
  },
  {
   "cell_type": "code",
   "execution_count": null,
   "metadata": {},
   "outputs": [],
   "source": [
    "# initialize tracker for people and bag\n",
    "# lower tracking quality means the tracker will have bad tracking accuracy, default value is 7\n",
    "tracker = track.Tracker()\n",
    "tracker.trackingQuality = 9\n",
    "bagtracker = bagtrack.Tracker()\n",
    "id = 0\n",
    "bag = 0"
   ]
  },
  {
   "cell_type": "code",
   "execution_count": null,
   "metadata": {},
   "outputs": [],
   "source": [
    "# parsing arguments to variables\n",
    "model_path, input, output, frame_interval, bagthreshold, threshold = check_arg(sys.argv[1:])\n",
    "bagthreshold = float(bagthreshold)\n",
    "threshold = float(threshold)\n",
    "frame_interval = int(frame_interval)"
   ]
  },
  {
   "cell_type": "code",
   "execution_count": null,
   "metadata": {},
   "outputs": [],
   "source": [
    "# using manually defined values\n",
    "model_path = 'model/ssd_inception_v2_coco_2018_01_28/frozen_inference_graph.pb'\n",
    "input = 'videos/A0051.mov'\n",
    "output = 'output/sample_output.avi'\n",
    "frame_interval = 5\n",
    "bagthreshold = 0.7\n",
    "threshold = 0.7"
   ]
  },
  {
   "cell_type": "code",
   "execution_count": null,
   "metadata": {
    "scrolled": true
   },
   "outputs": [],
   "source": [
    "# creating object detector using the model in model_path\n",
    "\n",
    "odapi = od.DetectorAPI(path_to_ckpt=model_path)"
   ]
  },
  {
   "cell_type": "code",
   "execution_count": null,
   "metadata": {},
   "outputs": [],
   "source": [
    "# creating cv2 videocapture\n",
    "cap = cv2.VideoCapture(input)\n",
    "flag, frame = cap.read()\n",
    "# checking whether the input is a valid video file\n",
    "assert flag == True\n",
    "# defining tracker frame size, to detect when a tracker move out of screen.\n",
    "tracker.videoFrameSize = frame.shape\n",
    "bagtracker.videoFrameSize = frame.shape"
   ]
  },
  {
   "cell_type": "code",
   "execution_count": null,
   "metadata": {},
   "outputs": [],
   "source": [
    "# getting video information\n",
    "height, width, _ = frame.shape\n",
    "fps = cap.get(cv2.CAP_PROP_FPS)\n",
    "tracker.fps = fps\n",
    "fourcc = cv2.VideoWriter_fourcc(*'XVID')\n",
    "frame_count = 0\n",
    "# Define VideoWrite object\n",
    "# cv2.VideoWrite('arg1',arg2,arg3,(width,heigh))\n",
    "# arg1:output file name\n",
    "# arg2:Specify Fourcc code\n",
    "# arg3: frames per seconds\n",
    "# FourCC is a 4-byte code used to specify video codec\n",
    "out = cv2.VideoWriter(output, fourcc, fps, (width, height))"
   ]
  },
  {
   "cell_type": "code",
   "execution_count": null,
   "metadata": {},
   "outputs": [],
   "source": [
    "while True:\n",
    "    r, img = cap.read()\n",
    "    # if still have frames to process\n",
    "    if r:\n",
    "        if frame_count % (frame_interval * 5) == 0:\n",
    "            # remove duplicate tracker that overlaps each other\n",
    "            tracker.removeDuplicate()\n",
    "        # update and/or delete tracker object\n",
    "        tracker.deleteTrack(img)\n",
    "        bagtracker.deleteTrack(img)\n",
    "        # check each tracked bag for owner based on euclidean distance between the bag and each person\n",
    "        bagtracker.checkOwner(tracker)\n",
    "        if frame_count % frame_interval == 0:\n",
    "            # detect bag and person in the frame\n",
    "            boxes, scores, classes, num = odapi.processFrame(img)\n",
    "            # Visualization of the results of a detection.\n",
    "            for i in range(len(boxes)):\n",
    "                # Class 1 represents human\n",
    "                if classes[i] == 1 and scores[i] >= threshold:\n",
    "                    box = boxes[i]\n",
    "                    # check whether the detected object is already being tracked, if no, create new tracke\n",
    "                    r\n",
    "                    matchedID = tracker.getMatchId(img, (box[1], box[0], box[3], box[2]))\n",
    "                    if matchedID is None:\n",
    "                        id += 1\n",
    "                        tracker.createTrack(img, (box[1], box[0], box[3], box[2]), str(id), scores[i])\n",
    "                # class 27 is backpack, 31 is handbag, 33 is suitcase    \n",
    "                elif (classes[i] == 27 or classes[i] == 31 or classes[i] == 33) and scores[i] > bagthreshold:\n",
    "                    box = boxes[i]\n",
    "                    # check whether the detected object is already being tracked, if no, create new tracker\n",
    "                    matchedID = bagtracker.getMatchId(img, (box[1], box[0], box[3], box[2]))\n",
    "                    if matchedID is None:\n",
    "                        bag += 1\n",
    "                        bagtracker.createTrack(img, (box[1], box[0], box[3], box[2]), str(bag), scores[i])\n",
    "        drawTrackedFace(img)\n",
    "        drawTrackedBag(img)\n",
    "        # writing frame to output file\n",
    "        out.write(img)\n",
    "        frame_count += 1\n",
    "        # display in cv2\n",
    "        # cv2.imshow(\"preview\", img)\n",
    "        key = cv2.waitKey(1)\n",
    "        if key & 0xFF == ord('q'):\n",
    "            break\n",
    "    else:\n",
    "        raise RuntimeError('No more frame')"
   ]
  },
  {
   "cell_type": "code",
   "execution_count": null,
   "metadata": {},
   "outputs": [],
   "source": []
  },
  {
   "cell_type": "code",
   "execution_count": null,
   "metadata": {},
   "outputs": [],
   "source": []
  }
 ],
 "metadata": {
  "kernelspec": {
   "display_name": "Python 3",
   "language": "python",
   "name": "python3"
  },
  "language_info": {
   "codemirror_mode": {
    "name": "ipython",
    "version": 3
   },
   "file_extension": ".py",
   "mimetype": "text/x-python",
   "name": "python",
   "nbconvert_exporter": "python",
   "pygments_lexer": "ipython3",
   "version": "3.6.2"
  }
 },
 "nbformat": 4,
 "nbformat_minor": 2
}
