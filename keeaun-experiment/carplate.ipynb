{
 "cells": [
  {
   "cell_type": "code",
   "execution_count": 12,
   "metadata": {},
   "outputs": [],
   "source": [
    "import cv2\n",
    "import boto3\n",
    "import argparse\n",
    "import sys"
   ]
  },
  {
   "cell_type": "code",
   "execution_count": 13,
   "metadata": {},
   "outputs": [],
   "source": [
    "def parse_arguments(argv):\n",
    "    parser = argparse.ArgumentParser()\n",
    "    parser.add_argument(\"--video\", type=str, help=\"video path/ip address\")\n",
    "    parser.add_argument(\n",
    "        \"--width\", default=0, type=int, help=\"the width of video output\"\n",
    "    )\n",
    "    parser.add_argument(\n",
    "        \"--height\", default=0, type=int, help=\"the height of video output\"\n",
    "    )\n",
    "    parser.add_argument(\n",
    "        \"--output\", default=\"output/output.mov\", type=str, help=\"output video path\"\n",
    "    )\n",
    "    return parser.parse_args(argv)"
   ]
  },
  {
   "cell_type": "markdown",
   "metadata": {},
   "source": [
    "# Main Method"
   ]
  },
  {
   "cell_type": "code",
   "execution_count": 14,
   "metadata": {},
   "outputs": [
    {
     "name": "stdout",
     "output_type": "stream",
     "text": [
      "Namespace(height=0, output='output/output.mov', video='video/A0026.mpg', width=0)\n"
     ]
    }
   ],
   "source": [
    "args = parse_arguments(['--video', 'video/A0026.mpg'])\n",
    "print(args)"
   ]
  },
  {
   "cell_type": "code",
   "execution_count": 15,
   "metadata": {},
   "outputs": [],
   "source": [
    "client = boto3.client(\"rekognition\", \"us-east-2\")    \n",
    "\n",
    "if args.video is None:\n",
    "    video_src = 0\n",
    "else:\n",
    "    video_src = args.video\n",
    "\n",
    "cap = cv2.VideoCapture(video_src)\n",
    "\n",
    "resize = False\n",
    "\n",
    "if args.width > 0:\n",
    "    width = args.width\n",
    "    resize = True\n",
    "else:    \n",
    "    width = int(cap.get(cv2.CAP_PROP_FRAME_WIDTH))\n",
    "\n",
    "if args.height > 0:\n",
    "    height = args.height\n",
    "    resize = True\n",
    "else:\n",
    "    height = int(cap.get(cv2.CAP_PROP_FRAME_HEIGHT))\n",
    "\n",
    "output = args.output\n",
    "\n",
    "frame_count = 0\n",
    "frame_interval = 40\n",
    "\n",
    "fourcc = cv2.VideoWriter_fourcc(*'XVID')\n",
    "fps = cap.get(cv2.CAP_PROP_FPS)\n",
    "\n",
    "out = cv2.VideoWriter(\n",
    "    output, fourcc, fps, (width, height)\n",
    ")"
   ]
  },
  {
   "cell_type": "markdown",
   "metadata": {},
   "source": [
    "# Main section\n",
    "Simple rule to form car plate with AWS OCR method"
   ]
  },
  {
   "cell_type": "code",
   "execution_count": 16,
   "metadata": {},
   "outputs": [
    {
     "name": "stdout",
     "output_type": "stream",
     "text": [
      "AHK 299\n",
      "AHK 299\n",
      "AJC 8305\n",
      "AIC 8305\n",
      "AIC 8305\n",
      "BKA 887\n",
      "BKA 8870\n"
     ]
    }
   ],
   "source": [
    "carplate = None\n",
    "\n",
    "while True:\n",
    "    flags, frame = cap.read()\n",
    "\n",
    "    if flags == False:\n",
    "        break\n",
    "\n",
    "    if resize:\n",
    "        frame = cv2.resize(frame, (width, height))\n",
    "\n",
    "    if (frame_count % frame_interval) == 0:\n",
    "        cropRegion = frame[319:492, 420:666]\n",
    "\n",
    "        enc = cv2.imencode(\".png\", cropRegion)[1].tostring()\n",
    "\n",
    "        response = client.detect_text(Image={\"Bytes\": enc})\n",
    "\n",
    "        textDetections = response[\"TextDetections\"]\n",
    "\n",
    "        alpha = None\n",
    "        letter = None\n",
    "\n",
    "        for text in textDetections:\n",
    "            word = text[\"DetectedText\"]\n",
    "            # print(\"Detected text:\" + word)\n",
    "            if len(word) < 3:\n",
    "                continue\n",
    "            if len(word) > 6 and len(word) < 9:\n",
    "                carplate = word\n",
    "                print(carplate)\n",
    "                break\n",
    "            if word.isalpha():\n",
    "                alpha = word\n",
    "                continue\n",
    "            if word.isdigit():\n",
    "                letter = word\n",
    "                continue\n",
    "\n",
    "        if alpha is not None and letter is not None:\n",
    "            carplate = alpha + \" \" + letter\n",
    "            print(carplate)\n",
    "\n",
    "    textT = \"License plate: \" + str(carplate)\n",
    "\n",
    "    cv2.putText(\n",
    "        frame, textT, (10, 50), cv2.FONT_HERSHEY_SIMPLEX, 1, (255, 0, 255), 2\n",
    "    )\n",
    "    cv2.rectangle(frame, (420, 319), (666, 492), (255, 0, 0), 2)\n",
    "\n",
    "    out.write(frame)\n",
    "    cv2.imshow(\"Video\", frame)\n",
    "\n",
    "    frame_count += 1\n",
    "\n",
    "    if cv2.waitKey(1) & 0xFF == ord(\"q\"):\n",
    "        break\n",
    "\n",
    "cap.release()\n",
    "out.release()\n",
    "cv2.destroyAllWindows()"
   ]
  }
 ],
 "metadata": {
  "kernelspec": {
   "display_name": "Python 3",
   "language": "python",
   "name": "python3"
  },
  "language_info": {
   "codemirror_mode": {
    "name": "ipython",
    "version": 3
   },
   "file_extension": ".py",
   "mimetype": "text/x-python",
   "name": "python",
   "nbconvert_exporter": "python",
   "pygments_lexer": "ipython3",
   "version": "3.6.6"
  }
 },
 "nbformat": 4,
 "nbformat_minor": 2
}
